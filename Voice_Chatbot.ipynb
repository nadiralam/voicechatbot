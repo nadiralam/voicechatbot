{
  "cells": [
    {
      "cell_type": "markdown",
      "metadata": {
        "id": "view-in-github",
        "colab_type": "text"
      },
      "source": [
        "<a href=\"https://colab.research.google.com/github/nadiralam/voicechatbot/blob/main/Voice_Chatbot.ipynb\" target=\"_parent\"><img src=\"https://colab.research.google.com/assets/colab-badge.svg\" alt=\"Open In Colab\"/></a>"
      ]
    },
    {
      "cell_type": "code",
      "source": [
        "!pip install -q openai-whisper"
      ],
      "metadata": {
        "id": "U9XtoCrc5xXi"
      },
      "execution_count": 9,
      "outputs": []
    },
    {
      "cell_type": "code",
      "source": [
        "!pip install -q gradio"
      ],
      "metadata": {
        "id": "6FBTLlzE6UTw"
      },
      "execution_count": 10,
      "outputs": []
    },
    {
      "cell_type": "code",
      "source": [
        "!pip install -q gtts\n"
      ],
      "metadata": {
        "id": "bVk4nmKr6hTB"
      },
      "execution_count": 11,
      "outputs": []
    },
    {
      "cell_type": "code",
      "source": [
        "# Imports\n",
        "import google.generativeai as genai\n",
        "import whisper\n",
        "import gradio as gr\n",
        "import numpy as np\n",
        "from gtts import gTTS\n",
        "from PIL import Image\n",
        "import datetime\n",
        "import os\n",
        "import torch\n",
        "\n",
        "\n"
      ],
      "metadata": {
        "id": "nCdo8R5Ycj84"
      },
      "execution_count": 12,
      "outputs": []
    },
    {
      "cell_type": "code",
      "source": [],
      "metadata": {
        "id": "BTpQ_DN66S1B"
      },
      "execution_count": 12,
      "outputs": []
    },
    {
      "cell_type": "code",
      "source": [
        "# API Key for Gemini (replace with your own securely)\n",
        "from google.colab import userdata\n",
        "GENAI_API_KEY = userdata.get('Gemini_key')\n",
        "\n",
        "genai.configure(api_key=GENAI_API_KEY)\n"
      ],
      "metadata": {
        "id": "RlbQk6k0cj_m"
      },
      "execution_count": 13,
      "outputs": []
    },
    {
      "cell_type": "code",
      "source": [
        "DEVICE = \"cuda\" if torch.cuda.is_available() else \"cpu\"\n",
        "print(f\"Using torch {torch.__version__} ({DEVICE})\")"
      ],
      "metadata": {
        "colab": {
          "base_uri": "https://localhost:8080/"
        },
        "id": "OG1_CTgbZh6N",
        "outputId": "8a4f4100-9ad9-4ffb-d2c9-d8717b8bb78d"
      },
      "execution_count": 14,
      "outputs": [
        {
          "output_type": "stream",
          "name": "stdout",
          "text": [
            "Using torch 2.6.0+cu124 (cuda)\n"
          ]
        }
      ]
    },
    {
      "cell_type": "code",
      "source": [
        "## load the wisper model\n",
        "\n",
        "model = whisper.load_model(\"medium\", device=DEVICE)"
      ],
      "metadata": {
        "id": "hZql-BzXaWOF",
        "colab": {
          "base_uri": "https://localhost:8080/"
        },
        "outputId": "2d28d827-4ba6-4c52-b355-6efc18d1319e"
      },
      "execution_count": 15,
      "outputs": [
        {
          "output_type": "stream",
          "name": "stderr",
          "text": [
            "100%|█████████████████████████████████████| 1.42G/1.42G [00:17<00:00, 88.5MiB/s]\n"
          ]
        }
      ]
    },
    {
      "cell_type": "code",
      "source": [
        "# Logger\n",
        "tstamp = str(datetime.datetime.now()).replace(' ','_')\n",
        "logfile = f'{tstamp}_log.txt'\n",
        "def writehistory(text):\n",
        "    with open(logfile, 'a', encoding='utf-8') as f:\n",
        "        f.write(text + '\\n')\n",
        "\n"
      ],
      "metadata": {
        "id": "Ucjud0RIckB-"
      },
      "execution_count": 16,
      "outputs": []
    },
    {
      "cell_type": "code",
      "source": [
        "# Whisper transcription\n",
        "def transcribe(audio):\n",
        "    if not audio:\n",
        "        return '', '', None\n",
        "    audio = whisper.load_audio(audio)\n",
        "    audio = whisper.pad_or_trim(audio)\n",
        "    mel = whisper.log_mel_spectrogram(audio).to(model.device)\n",
        "    result = whisper.decode(model, mel, whisper.DecodingOptions())\n",
        "    return result.text\n",
        "\n"
      ],
      "metadata": {
        "id": "uo7I10uuXM5u"
      },
      "execution_count": 17,
      "outputs": []
    },
    {
      "cell_type": "code",
      "source": [
        "# Gemini image+text prompt\n",
        "def img2txt(prompt_text, image_path):\n",
        "    if not image_path:\n",
        "        return \"No image provided.\"\n",
        "    img = Image.open(image_path)\n",
        "    writehistory(f\"Input prompt: {prompt_text}\")\n",
        "\n",
        "    try:\n",
        "        model = genai.GenerativeModel(\"gemini-1.5-flash\")\n",
        "        response = model.generate_content([prompt_text, img])\n",
        "        return response.text\n",
        "    except Exception as e:\n",
        "        return f\"Error: {str(e)}\"\n",
        "\n"
      ],
      "metadata": {
        "id": "JmjQGmgHXM8-"
      },
      "execution_count": 18,
      "outputs": []
    },
    {
      "cell_type": "code",
      "source": [
        "# Text-to-speech\n",
        "def text_to_speech(text, file_path=\"Temp3.mp3\"):\n",
        "    audioobj = gTTS(text=text, lang='en', slow=False)\n",
        "    audioobj.save(file_path)\n",
        "    return file_path\n",
        "\n"
      ],
      "metadata": {
        "id": "0IpgDisjXM_9"
      },
      "execution_count": 19,
      "outputs": []
    },
    {
      "cell_type": "code",
      "source": [
        "# Final pipeline\n",
        "def process_inputs(audio_path, image_path):\n",
        "    speech_text = transcribe(audio_path)\n",
        "    prompt = f\"Act as an expert in imagery descriptive analysis. Respond to the prompt: {speech_text}\"\n",
        "    img_text = img2txt(prompt, image_path)\n",
        "    audio_reply_path = text_to_speech(img_text)\n",
        "    return speech_text, img_text, audio_reply_path\n",
        "\n"
      ],
      "metadata": {
        "id": "3eLXZ7RdXNDF"
      },
      "execution_count": 20,
      "outputs": []
    },
    {
      "cell_type": "code",
      "source": [
        "# Gradio UI\n",
        "app = gr.Interface(\n",
        "    fn=process_inputs,\n",
        "    inputs=[\n",
        "        gr.Audio(sources=[\"microphone\"], type=\"filepath\"),\n",
        "        gr.Image(type=\"filepath\")\n",
        "    ],\n",
        "    outputs=[\n",
        "        gr.Textbox(label=\"Speech to Text\"),\n",
        "        gr.Textbox(label=\"Gemini Output\"),\n",
        "        gr.Audio(label=\"Gemini Audio Response\")\n",
        "    ],\n",
        "    title=\"Gemini + Whisper Voice Chatbot\",\n",
        "    description=\"Speak your prompt, upload an image, and get image analysis powered by Gemini.\"\n",
        ")\n",
        "\n"
      ],
      "metadata": {
        "id": "EzCFv37TXNI2"
      },
      "execution_count": 21,
      "outputs": []
    },
    {
      "cell_type": "code",
      "source": [
        "app.launch(debug=True)"
      ],
      "metadata": {
        "colab": {
          "base_uri": "https://localhost:8080/",
          "height": 645
        },
        "id": "7_ZWB1gEXNL_",
        "outputId": "d2f638dd-746b-42b6-ee3d-62330d116968"
      },
      "execution_count": null,
      "outputs": [
        {
          "output_type": "stream",
          "name": "stdout",
          "text": [
            "It looks like you are running Gradio on a hosted a Jupyter notebook. For the Gradio app to work, sharing must be enabled. Automatically setting `share=True` (you can turn this off by setting `share=False` in `launch()` explicitly).\n",
            "\n",
            "Colab notebook detected. This cell will run indefinitely so that you can see errors and logs. To turn off, set debug=False in launch().\n",
            "* Running on public URL: https://838eb585e929701ab2.gradio.live\n",
            "\n",
            "This share link expires in 1 week. For free permanent hosting and GPU upgrades, run `gradio deploy` from the terminal in the working directory to deploy to Hugging Face Spaces (https://huggingface.co/spaces)\n"
          ]
        },
        {
          "output_type": "display_data",
          "data": {
            "text/plain": [
              "<IPython.core.display.HTML object>"
            ],
            "text/html": [
              "<div><iframe src=\"https://838eb585e929701ab2.gradio.live\" width=\"100%\" height=\"500\" allow=\"autoplay; camera; microphone; clipboard-read; clipboard-write;\" frameborder=\"0\" allowfullscreen></iframe></div>"
            ]
          },
          "metadata": {}
        }
      ]
    },
    {
      "cell_type": "code",
      "source": [],
      "metadata": {
        "id": "sHsEPtVDXNOf"
      },
      "execution_count": null,
      "outputs": []
    }
  ],
  "metadata": {
    "accelerator": "GPU",
    "colab": {
      "gpuType": "T4",
      "provenance": [],
      "authorship_tag": "ABX9TyMNvnRqK34co0/Ec9HYTawr",
      "include_colab_link": true
    },
    "kernelspec": {
      "display_name": "Python 3",
      "name": "python3"
    },
    "language_info": {
      "name": "python"
    }
  },
  "nbformat": 4,
  "nbformat_minor": 0
}